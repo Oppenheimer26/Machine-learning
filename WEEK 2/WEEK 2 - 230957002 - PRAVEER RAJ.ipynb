{
 "cells": [
  {
   "cell_type": "markdown",
   "id": "d6ded7a1",
   "metadata": {},
   "source": [
    "# PRAVEER RAJ \n",
    "## BATCH - MATHS AND COMPUTING\n",
    "## WEEK 2\n",
    "### ROLL NO. 1\n",
    "#### Date: 13th January 2025 "
   ]
  },
  {
   "cell_type": "markdown",
   "id": "26653109",
   "metadata": {},
   "source": [
    "Exercise 1 \n",
    "1. Write a user defined function ‘myFnLinReg(x,y)’ to perform Simple Linear \n",
    "Regression given one predictor attribute and one response attribute. The function \n",
    "should return the coefficients of the straight line. \n",
    "2. Use mtcars data set and consider the attributes mpg and weight. Split data into train \n",
    "and test sets (80 %,20%). Put training data set to ‘myFnLinReg(x,y)’ to build a linear \n",
    "regression model to predict mpg given the weight of the car. \n",
    "3. What is the mpg of a car, whose weight is 5.5? \n",
    "4. Compute and print accuracy measures such as RMSE and R2  for the test set.  \n",
    "5. Apply the stochastic gradient descent and mini batch gradient descent algorithms to \n",
    "enhance the accuracy and visualize the cost function. "
   ]
  },
  {
   "cell_type": "markdown",
   "id": "6e86577f",
   "metadata": {},
   "source": [
    "# EXERCISE 1"
   ]
  },
  {
   "cell_type": "code",
   "execution_count": 3,
   "id": "d44afa33",
   "metadata": {},
   "outputs": [
    {
     "name": "stdout",
     "output_type": "stream",
     "text": [
      "Defaulting to user installation because normal site-packages is not writeable\n",
      "Requirement already satisfied: scikit-learn in c:\\programdata\\anaconda3\\lib\\site-packages (1.0.2)\n",
      "Requirement already satisfied: scipy>=1.1.0 in c:\\programdata\\anaconda3\\lib\\site-packages (from scikit-learn) (1.9.1)\n",
      "Requirement already satisfied: threadpoolctl>=2.0.0 in c:\\programdata\\anaconda3\\lib\\site-packages (from scikit-learn) (2.2.0)\n",
      "Requirement already satisfied: joblib>=0.11 in c:\\programdata\\anaconda3\\lib\\site-packages (from scikit-learn) (1.1.0)\n",
      "Requirement already satisfied: numpy>=1.14.6 in c:\\programdata\\anaconda3\\lib\\site-packages (from scikit-learn) (1.21.5)\n",
      "Note: you may need to restart the kernel to use updated packages.\n"
     ]
    }
   ],
   "source": [
    "pip install scikit-learn"
   ]
  },
  {
   "cell_type": "code",
   "execution_count": 4,
   "id": "8d0011bc",
   "metadata": {},
   "outputs": [],
   "source": [
    "from sklearn.linear_model import LinearRegression\n",
    "import numpy as np"
   ]
  },
  {
   "cell_type": "code",
   "execution_count": 8,
   "id": "ef89b03c",
   "metadata": {},
   "outputs": [
    {
     "name": "stdout",
     "output_type": "stream",
     "text": [
      "Slope (m): 1.1\n",
      "Intercept (b): 3.1\n"
     ]
    }
   ],
   "source": [
    "def myFnLinReg(x, y):\n",
    "    \n",
    "    x = np.array(x).reshape(-1, 1)\n",
    "    y = np.array(y)\n",
    "    \n",
    "    \n",
    "    model = LinearRegression()\n",
    "    model.fit(x, y)\n",
    "    \n",
    "    \n",
    "    m = model.coef_[0] \n",
    "    b = model.intercept_ \n",
    "    \n",
    "    return m, b\n",
    "\n",
    "\n",
    "x = [1, 2, 3, 4, 5] \n",
    "y = [4, 5, 8, 6, 9]  \n",
    "\n",
    "m, b = myFnLinReg(x, y)\n",
    "print(f\"Slope (m): {m}\")\n",
    "print(f\"Intercept (b): {b}\")\n"
   ]
  },
  {
   "cell_type": "code",
   "execution_count": 12,
   "id": "bdb37419",
   "metadata": {},
   "outputs": [
    {
     "name": "stdout",
     "output_type": "stream",
     "text": [
      "Slope (m): -5.33694140055708\n",
      "Intercept (b): 36.93731031351841\n",
      "RMSE: 3.5321361326991383\n",
      "R²: 0.6879761857596275\n"
     ]
    }
   ],
   "source": [
    "import pandas as pd\n",
    "from sklearn.model_selection import train_test_split\n",
    "from sklearn.metrics import mean_squared_error, r2_score\n",
    "import numpy as np\n",
    "\n",
    "def myFnLinReg(x, y):\n",
    "    x = np.array(x).reshape(-1, 1)\n",
    "    y = np.array(y)\n",
    "    model = LinearRegression()\n",
    "    model.fit(x, y)\n",
    "    m = model.coef_[0]\n",
    "    b = model.intercept_\n",
    "    return m, b\n",
    "\n",
    "df = pd.read_csv('mtcars.csv')\n",
    "\n",
    "x = df['wt']\n",
    "y = df['mpg']\n",
    "\n",
    "x_train, x_test, y_train, y_test = train_test_split(x, y, test_size=0.2, random_state=42)\n",
    "\n",
    "slope, intercept = myFnLinReg(x_train, y_train)\n",
    "\n",
    "print(f\"Slope (m): {slope}\")\n",
    "print(f\"Intercept (b): {intercept}\")\n",
    "\n",
    "y_pred = slope * x_test + intercept\n",
    "\n",
    "rmse = mean_squared_error(y_test, y_pred, squared=False)\n",
    "r2 = r2_score(y_test, y_pred)\n",
    "\n",
    "print(f\"RMSE: {rmse}\")\n",
    "print(f\"R²: {r2}\")\n"
   ]
  },
  {
   "cell_type": "code",
   "execution_count": 14,
   "id": "d1f89f0f",
   "metadata": {},
   "outputs": [
    {
     "name": "stdout",
     "output_type": "stream",
     "text": [
      "Predicted mpg for a car with weight 5.5: 7.584132610454468\n"
     ]
    }
   ],
   "source": [
    "mpg_for_5_5 = slope * 5.5 + intercept\n",
    "print(f\"Predicted mpg for a car with weight 5.5: {mpg_for_5_5}\")\n"
   ]
  },
  {
   "cell_type": "code",
   "execution_count": 18,
   "id": "747a458f",
   "metadata": {},
   "outputs": [
    {
     "data": {
      "image/png": "[encoded data removed]",
      "text/plain": [
       "<Figure size 640x480 with 1 Axes>"
      ]
     },
     "metadata": {},
     "output_type": "display_data"
    },
    {
     "name": "stdout",
     "output_type": "stream",
     "text": [
      "SGD Model Prediction (for car weight 5.5): [5.75210085]\n",
      "Mini-Batch GD Model Prediction (for car weight 5.5): [7.95855908]\n",
      "RMSE for SGD: 3.381694425536527\n",
      "R² for SGD: 0.6750159015813408\n",
      "RMSE for Mini-Batch GD: 2.949326946519021\n",
      "R² for Mini-Batch GD: 0.7528052597717422\n"
     ]
    }
   ],
   "source": [
    "import numpy as np\n",
    "import matplotlib.pyplot as plt\n",
    "\n",
    "def compute_cost(X, y, m, b):\n",
    "    m_values = np.array(m)\n",
    "    b_values = np.array(b)\n",
    "    cost = np.mean((X @ m_values + b_values - y) ** 2)\n",
    "    return cost\n",
    "\n",
    "def stochastic_gradient_descent(X, y, learning_rate, epochs):\n",
    "    m = np.zeros(X.shape[1])\n",
    "    b = 0\n",
    "    costs = []\n",
    "    for epoch in range(epochs):\n",
    "        for i in range(len(X)):\n",
    "            xi = X[i].reshape(1, -1)\n",
    "            yi = y[i]\n",
    "            prediction = xi @ m + b\n",
    "            \n",
    "            gradient_m = -2 * xi.T * (yi - prediction)\n",
    "            gradient_b = -2 * (yi - prediction)\n",
    "            \n",
    "            \n",
    "            m = m - learning_rate * gradient_m.flatten()\n",
    "            b = b - learning_rate * gradient_b\n",
    "        cost = compute_cost(X, y, m, b)\n",
    "        costs.append(cost)\n",
    "    return m, b, costs\n",
    "\n",
    "def mini_batch_gradient_descent(X, y, learning_rate, epochs, batch_size):\n",
    "    m = np.zeros(X.shape[1])\n",
    "    b = 0\n",
    "    costs = []\n",
    "    for epoch in range(epochs):\n",
    "        permutation = np.random.permutation(len(X))\n",
    "        X_shuffled = X[permutation]\n",
    "        y_shuffled = y[permutation]\n",
    "        \n",
    "        for i in range(0, len(X), batch_size):\n",
    "            X_batch = X_shuffled[i:i+batch_size]\n",
    "            y_batch = y_shuffled[i:i+batch_size]\n",
    "            \n",
    "            predictions = X_batch @ m + b\n",
    "            errors = predictions - y_batch\n",
    "            gradient_m = 2 * X_batch.T @ errors / batch_size\n",
    "            gradient_b = 2 * np.sum(errors) / batch_size\n",
    "            \n",
    "            m = m - learning_rate * gradient_m\n",
    "            b = b - learning_rate * gradient_b\n",
    "        \n",
    "        cost = compute_cost(X, y, m, b)\n",
    "        costs.append(cost)\n",
    "    return m, b, costs\n",
    "\n",
    "df = pd.read_csv('mtcars.csv')\n",
    "X = df['wt'].values.reshape(-1, 1)  \n",
    "y = df['mpg'].values \n",
    "\n",
    "X_bias = np.c_[np.ones(X.shape[0]), X]\n",
    "\n",
    "learning_rate = 0.01\n",
    "epochs = 1000\n",
    "batch_size = 10\n",
    "\n",
    "m_sgd, b_sgd, costs_sgd = stochastic_gradient_descent(X_bias, y, learning_rate, epochs)\n",
    "\n",
    "m_mbgd, b_mbgd, costs_mbgd = mini_batch_gradient_descent(X_bias, y, learning_rate, epochs, batch_size)\n",
    "\n",
    "plt.plot(costs_sgd, label=\"SGD\")\n",
    "plt.plot(costs_mbgd, label=\"Mini-Batch GD\")\n",
    "plt.xlabel(\"Epochs\")\n",
    "plt.ylabel(\"Cost\")\n",
    "plt.title(\"Cost Function During Training\")\n",
    "plt.legend()\n",
    "plt.show()\n",
    "\n",
    "from sklearn.metrics import mean_squared_error, r2_score\n",
    "x_test = np.array([5.5]).reshape(-1, 1)\n",
    "X_test_bias = np.c_[np.ones(x_test.shape[0]), x_test]\n",
    "\n",
    "y_pred_sgd = X_test_bias @ m_sgd + b_sgd\n",
    "\n",
    "y_pred_mbgd = X_test_bias @ m_mbgd + b_mbgd\n",
    "\n",
    "rmse_sgd = np.sqrt(mean_squared_error(y, X_bias @ m_sgd + b_sgd))\n",
    "r2_sgd = r2_score(y, X_bias @ m_sgd + b_sgd)\n",
    "\n",
    "rmse_mbgd = np.sqrt(mean_squared_error(y, X_bias @ m_mbgd + b_mbgd))\n",
    "r2_mbgd = r2_score(y, X_bias @ m_mbgd + b_mbgd)\n",
    "\n",
    "print(\"SGD Model Prediction (for car weight 5.5):\", y_pred_sgd)\n",
    "print(\"Mini-Batch GD Model Prediction (for car weight 5.5):\", y_pred_mbgd)\n",
    "print(f\"RMSE for SGD: {rmse_sgd}\")\n",
    "print(f\"R² for SGD: {r2_sgd}\")\n",
    "print(f\"RMSE for Mini-Batch GD: {rmse_mbgd}\")\n",
    "print(f\"R² for Mini-Batch GD: {r2_mbgd}\")\n"
   ]
  },
  {
   "cell_type": "markdown",
   "id": "87f4e5ad",
   "metadata": {},
   "source": [
    "Exercise 2 \n",
    "1. Use the boston.csv dataset and determine the best 5 features to predict ‘MEDV’.  \n",
    "2. Using sklearn.linear_model, find the multiple regression model for the boston.csv \n",
    "dataset using the best 3 features.  (from sklearn.linear_model import \n",
    "LinearRegression)  \n",
    "3. Find the accuracy of the model using appropriate metrics using 80, 20 split for \n",
    "training and test."
   ]
  },
  {
   "cell_type": "markdown",
   "id": "00c5ad72",
   "metadata": {},
   "source": [
    "# Exercise 2 \n",
    "\n"
   ]
  },
  {
   "cell_type": "code",
   "execution_count": 1,
   "id": "cdc3d3f4",
   "metadata": {},
   "outputs": [
    {
     "name": "stdout",
     "output_type": "stream",
     "text": [
      "Top 5 Features Correlated with MEDV:\n",
      "lstat      0.737663\n",
      "rm         0.695360\n",
      "ptratio    0.507787\n",
      "indus      0.483725\n",
      "tax        0.468536\n",
      "Name: medv, dtype: float64\n",
      "\n",
      "Mean Squared Error (MSE): 27.114957415580577\n",
      "R² Score: 0.6302528487272827\n"
     ]
    }
   ],
   "source": [
    "#Exercise 2\n",
    "\n",
    "import pandas as pd\n",
    "from sklearn.model_selection import train_test_split\n",
    "from sklearn.linear_model import LinearRegression\n",
    "from sklearn.metrics import mean_squared_error, r2_score\n",
    "\n",
    "boston_data = pd.read_csv('Boston.csv')\n",
    "\n",
    "correlation_matrix = boston_data.corr()\n",
    "correlation_with_medv = correlation_matrix['medv'].drop('medv')\n",
    "top_features = correlation_with_medv.abs().sort_values(ascending=False).head(5)\n",
    "\n",
    "features = ['lstat', 'rm', 'ptratio']\n",
    "X = boston_data[features]\n",
    "y = boston_data['medv']\n",
    "\n",
    "X_train, X_test, y_train, y_test = train_test_split(X, y, test_size=0.2, random_state=42)\n",
    "\n",
    "model = LinearRegression()\n",
    "model.fit(X_train, y_train)\n",
    "\n",
    "y_pred = model.predict(X_test)\n",
    "\n",
    "mse = mean_squared_error(y_test, y_pred)\n",
    "r2 = r2_score(y_test, y_pred)\n",
    "\n",
    "print(\"Top 5 Features Correlated with MEDV:\")\n",
    "print(top_features)\n",
    "print(\"\\nMean Squared Error (MSE):\", mse)\n",
    "print(\"R² Score:\", r2)"
   ]
  },
  {
   "cell_type": "code",
   "execution_count": null,
   "id": "e9f673a3",
   "metadata": {},
   "outputs": [],
   "source": []
  }
 ],
 "metadata": {
  "kernelspec": {
   "display_name": "Python 3 (ipykernel)",
   "language": "python",
   "name": "python3"
  },
  "language_info": {
   "codemirror_mode": {
    "name": "ipython",
    "version": 3
   },
   "file_extension": ".py",
   "mimetype": "text/x-python",
   "name": "python",
   "nbconvert_exporter": "python",
   "pygments_lexer": "ipython3",
   "version": "3.9.13"
  }
 },
 "nbformat": 4,
 "nbformat_minor": 5
}
